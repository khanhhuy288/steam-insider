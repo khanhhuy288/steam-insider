{
 "cells": [
  {
   "cell_type": "markdown",
   "id": "db9545eb",
   "metadata": {},
   "source": [
    "### Steps\n",
    "- Use a list of **app_id** to get info from Steam crawler and insert **app_id**, **game_name**, **header_img_url**, **total_positive**, **total_negative**, **total_reviews** into table **games** and insert **game_id**, **review**, **recommended**, **time** into table **reviews**.\n",
    "- Preprocess **review** in table **reviews** (add_missing_punct, replace_bullets, remove_url, remove_html_tags, normalize_single_quote, remove_non_ascii, remove_ansi_escape_sequences, remove_multi_whitespaces), then tokenize_sent and remove_leading_symbols to insert **review_id**, **sent** into table **sents**.\n",
    "- Preprocess **sent** in table **sents** (lowercase, expand contractions, remove_digits, remove_symbols, remove_multi_whitespaces, lemmatize_text, remove_stopwords) to create **sent_prep** in table **sents**.\n",
    "\t- Use **sent_prep**, **review_id** in table **sents** to insert **review_prep** in table **reviews** by joining **sent_prep**.\n",
    "- Use **review_prep** in table **reviews** to calculate special bigrams frequency, get 50 most frequent keywords.\n",
    "- Insert **kw**, **freq** into table **kws**.\n",
    "- Embed 50 keywords using S-BERT and cluster them using agglomerative clustering with a distance_threshold=0.6. \n",
    "\t- Insert **cluster_name** (name of the most frequent keyword in cluster) into table **clusters**.\n",
    "\t- Insert **cluster_id** in table **kws**.\n",
    "- Loop through **sent_prep** in table **sents**, fuzzy-match each **kw** in table **kws**. \n",
    "    - Insert **cluster_id**, **sent_id** in table **clusters_sents**t to link table **clusters** and **sents**.\n",
    "- Remove all **sent_id** in table **sents** if they don't exist in table **clusters_sents**.\n",
    "    - Insert **score_flair**, **score_vader**, **recommended**, **score_total**, **sent_embedding** in table **sents**."
   ]
  },
  {
   "cell_type": "markdown",
   "id": "9d1c2602",
   "metadata": {},
   "source": [
    "### Step 1:"
   ]
  },
  {
   "cell_type": "markdown",
   "id": "fbc5a441",
   "metadata": {},
   "source": [
    "Use a list of **app_id** to get info from Steam crawler and insert **app_id**, **game_name**, **header_img_url**, **total_positive**, **total_negative**, **total_reviews** into table **games** and insert **game_id** (fk), **review**, **recommended**, **time** into table **reviews**."
   ]
  },
  {
   "cell_type": "code",
   "execution_count": 1,
   "id": "38323474",
   "metadata": {},
   "outputs": [],
   "source": [
    "import requests \n",
    "import pandas as pd\n",
    "import numpy as np\n",
    "import download_steam_reviews\n",
    "import sqlite3"
   ]
  },
  {
   "cell_type": "code",
   "execution_count": 10,
   "id": "f11a1a99",
   "metadata": {},
   "outputs": [],
   "source": [
    "conn = sqlite3.connect('./data/steam_reviews.db') \n",
    "cursor = conn.cursor()"
   ]
  },
  {
   "cell_type": "code",
   "execution_count": 11,
   "id": "a79ebfd0",
   "metadata": {},
   "outputs": [],
   "source": [
    "def print_cursor(cursor): \n",
    "    print(cursor.execute(\"\"\"\n",
    "        select * from games;\n",
    "    \"\"\").fetchall())"
   ]
  },
  {
   "cell_type": "code",
   "execution_count": 12,
   "id": "52bc36a1",
   "metadata": {},
   "outputs": [
    {
     "name": "stdout",
     "output_type": "stream",
     "text": [
      "[(1, 428550, 'Momodora: Reverie Under the Moonlight', 'https://cdn.cloudflare.steamstatic.com/steam/apps/428550/header.jpg', 3561, 269, 3830), (2, 367520, 'Hollow Knight', 'https://cdn.cloudflare.steamstatic.com/steam/apps/367520/header.jpg', 4877, 123, 5000)]\n"
     ]
    }
   ],
   "source": [
    "print_cursor(cursor)"
   ]
  },
  {
   "cell_type": "code",
   "execution_count": 19,
   "id": "717e23e3",
   "metadata": {},
   "outputs": [
    {
     "name": "stdout",
     "output_type": "stream",
     "text": [
      "2\n"
     ]
    }
   ],
   "source": [
    "print(cursor.execute(\"\"\"\n",
    "        select game_id from games \n",
    "        where app_id=367520;\n",
    "    \"\"\").fetchall()[0][0])"
   ]
  },
  {
   "cell_type": "code",
   "execution_count": 5,
   "id": "b80fb766",
   "metadata": {},
   "outputs": [],
   "source": [
    "# 428550 - Momodora: Reverie under the Moonlight\n",
    "# 367520 - Hollow Knight\n",
    "app_ids = [428550, 367520]"
   ]
  },
  {
   "cell_type": "code",
   "execution_count": 6,
   "id": "0f35a569",
   "metadata": {},
   "outputs": [],
   "source": [
    "### get game_name ###\n",
    "\n",
    "def get_app_list(): \n",
    "    app_list_url = 'https://api.steampowered.com/ISteamApps/GetAppList/v2/'\n",
    "    resp_data = requests.get(app_list_url)\n",
    "    return resp_data.json()\n",
    "\n",
    "def get_name(app_id, app_list): \n",
    "    for app in app_list['applist']['apps']: \n",
    "        if app['appid'] == app_id: \n",
    "            return app['name']"
   ]
  },
  {
   "cell_type": "code",
   "execution_count": 7,
   "id": "78465edf",
   "metadata": {},
   "outputs": [],
   "source": [
    "### get header_img_url  \n",
    "\n",
    "def get_header_img_url(app_id): \n",
    "    return f'https://cdn.cloudflare.steamstatic.com/steam/apps/{app_id}/header.jpg'"
   ]
  },
  {
   "cell_type": "code",
   "execution_count": 9,
   "id": "f6d7fbf3",
   "metadata": {},
   "outputs": [],
   "source": [
    "### get total_positive, total_negative, total_reviews in Crawler for table games \n",
    "### get game_id, review, recommended, time in Crawler for table games \n",
    "\n",
    "app_list = get_app_list()\n",
    "\n",
    "request_params = {\n",
    "    'language': 'english'\n",
    "}\n",
    "\n",
    "# load or download new \n",
    "load_mode = True\n",
    "\n",
    "for app_id in app_ids: \n",
    "    game_tuples = [] \n",
    "\n",
    "    game_name = get_name(app_id, app_list)\n",
    "    \n",
    "    header_img_url = get_header_img_url(app_id)\n",
    "    \n",
    "#     with conn:\n",
    "#         cursor.execute(\"\"\"INSERT INTO games (app_id, game_name, header_img_url) VALUES (?, ?, ?);\"\"\", \n",
    "#                        (app_id, game_name, header_img_url))\n",
    "    \n",
    "    total_positive, total_negative, total_reviews = 0, 0, 0\n",
    "    \n",
    "    if load_mode: \n",
    "        review_dict = download_steam_reviews.load_review_dict(app_id)['reviews'].values()\n",
    "    else: \n",
    "        review_dict = download_steam_reviews.download_reviews_for_app_id(app_id, \n",
    "                                                                     chosen_request_params=request_params, \n",
    "                                                                     reviews_limit=5000)[0]['reviews'].values()\n",
    "    \n",
    "    for review_dict_value in review_dict: \n",
    "        total_reviews += 1\n",
    "    \n",
    "        voted_up = 1 if review_dict_value['voted_up'] else 0\n",
    "    \n",
    "        if voted_up: \n",
    "            total_positive += 1\n",
    "        else: \n",
    "            total_negative += 1\n",
    "     \n",
    "        review = review_dict_value['review']\n",
    "        recommended = voted_up\n",
    "        time = review_dict_value['timestamp_updated']\n",
    "    \n",
    "        with conn:\n",
    "            cursor.execute(\"\"\"INSERT INTO reviews (review, recommended, time, game_id) VALUES \n",
    "                                (?, ?, ?, (SELECT game_id from games WHERE app_id=?));\"\"\",\n",
    "                           (review, recommended, time, app_id))\n",
    "            \n",
    "\n",
    "    with conn:\n",
    "        cursor.execute(\"\"\"UPDATE games \n",
    "                            SET total_positive=?,\n",
    "                                total_negative=?,\n",
    "                                total_reviews=?\n",
    "                            WHERE app_id=?;\"\"\",\n",
    "                       (total_positive, total_negative, total_reviews, app_id))"
   ]
  },
  {
   "cell_type": "markdown",
   "id": "e4f39413",
   "metadata": {},
   "source": [
    "### Step 2:"
   ]
  },
  {
   "cell_type": "markdown",
   "id": "c05092c7",
   "metadata": {},
   "source": [
    "Preprocess **review** in table **reviews** (add_missing_punct, replace_bullets, remove_url, remove_html_tags, normalize_single_quote, remove_non_ascii, remove_ansi_escape_sequences, remove_multi_whitespaces), then tokenize_sent and remove_leading_symbols to insert **review_id**, **sent** into table **sents**.\n",
    "    \n",
    "        \n",
    "\n",
    "    "
   ]
  },
  {
   "cell_type": "code",
   "execution_count": 23,
   "id": "ada075ea",
   "metadata": {},
   "outputs": [],
   "source": [
    "df_reviews = pd.read_sql_query(\"SELECT review_id, review from reviews;\", conn)"
   ]
  },
  {
   "cell_type": "code",
   "execution_count": 24,
   "id": "ce5d3e04",
   "metadata": {},
   "outputs": [
    {
     "data": {
      "text/html": [
       "<div>\n",
       "<style scoped>\n",
       "    .dataframe tbody tr th:only-of-type {\n",
       "        vertical-align: middle;\n",
       "    }\n",
       "\n",
       "    .dataframe tbody tr th {\n",
       "        vertical-align: top;\n",
       "    }\n",
       "\n",
       "    .dataframe thead th {\n",
       "        text-align: right;\n",
       "    }\n",
       "</style>\n",
       "<table border=\"1\" class=\"dataframe\">\n",
       "  <thead>\n",
       "    <tr style=\"text-align: right;\">\n",
       "      <th></th>\n",
       "      <th>review_id</th>\n",
       "      <th>review</th>\n",
       "    </tr>\n",
       "  </thead>\n",
       "  <tbody>\n",
       "    <tr>\n",
       "      <th>0</th>\n",
       "      <td>1</td>\n",
       "      <td>Metroidvania with some influences from Dark So...</td>\n",
       "    </tr>\n",
       "    <tr>\n",
       "      <th>1</th>\n",
       "      <td>2</td>\n",
       "      <td>It's ok. Frustrating mechanics turned me off o...</td>\n",
       "    </tr>\n",
       "    <tr>\n",
       "      <th>2</th>\n",
       "      <td>3</td>\n",
       "      <td>Cat</td>\n",
       "    </tr>\n",
       "    <tr>\n",
       "      <th>3</th>\n",
       "      <td>4</td>\n",
       "      <td>Has problems but overall pretty good. I'd sugg...</td>\n",
       "    </tr>\n",
       "    <tr>\n",
       "      <th>4</th>\n",
       "      <td>5</td>\n",
       "      <td>This is a very good and very short game. If yo...</td>\n",
       "    </tr>\n",
       "    <tr>\n",
       "      <th>...</th>\n",
       "      <td>...</td>\n",
       "      <td>...</td>\n",
       "    </tr>\n",
       "    <tr>\n",
       "      <th>8825</th>\n",
       "      <td>8826</td>\n",
       "      <td>it's ok</td>\n",
       "    </tr>\n",
       "    <tr>\n",
       "      <th>8826</th>\n",
       "      <td>8827</td>\n",
       "      <td>One of the most polished and engaging games I'...</td>\n",
       "    </tr>\n",
       "    <tr>\n",
       "      <th>8827</th>\n",
       "      <td>8828</td>\n",
       "      <td>ahem\\n\"very hard owo\"</td>\n",
       "    </tr>\n",
       "    <tr>\n",
       "      <th>8828</th>\n",
       "      <td>8829</td>\n",
       "      <td>this game sic</td>\n",
       "    </tr>\n",
       "    <tr>\n",
       "      <th>8829</th>\n",
       "      <td>8830</td>\n",
       "      <td>DOMA DOMA DOMA DOMA DOMA</td>\n",
       "    </tr>\n",
       "  </tbody>\n",
       "</table>\n",
       "<p>8830 rows × 2 columns</p>\n",
       "</div>"
      ],
      "text/plain": [
       "      review_id                                             review\n",
       "0             1  Metroidvania with some influences from Dark So...\n",
       "1             2  It's ok. Frustrating mechanics turned me off o...\n",
       "2             3                                                Cat\n",
       "3             4  Has problems but overall pretty good. I'd sugg...\n",
       "4             5  This is a very good and very short game. If yo...\n",
       "...         ...                                                ...\n",
       "8825       8826                                            it's ok\n",
       "8826       8827  One of the most polished and engaging games I'...\n",
       "8827       8828                              ahem\\n\"very hard owo\"\n",
       "8828       8829                                      this game sic\n",
       "8829       8830                           DOMA DOMA DOMA DOMA DOMA\n",
       "\n",
       "[8830 rows x 2 columns]"
      ]
     },
     "execution_count": 24,
     "metadata": {},
     "output_type": "execute_result"
    }
   ],
   "source": [
    "df_reviews"
   ]
  },
  {
   "cell_type": "code",
   "execution_count": null,
   "id": "b64b3b87",
   "metadata": {},
   "outputs": [],
   "source": []
  },
  {
   "cell_type": "code",
   "execution_count": null,
   "id": "82491557",
   "metadata": {},
   "outputs": [],
   "source": []
  }
 ],
 "metadata": {
  "kernelspec": {
   "display_name": "Steam Insider",
   "language": "python",
   "name": "steam_insider"
  },
  "language_info": {
   "codemirror_mode": {
    "name": "ipython",
    "version": 3
   },
   "file_extension": ".py",
   "mimetype": "text/x-python",
   "name": "python",
   "nbconvert_exporter": "python",
   "pygments_lexer": "ipython3",
   "version": "3.6.12"
  }
 },
 "nbformat": 4,
 "nbformat_minor": 5
}
